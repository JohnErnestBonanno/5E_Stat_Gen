{
 "cells": [
  {
   "cell_type": "code",
   "execution_count": 1,
   "metadata": {
    "collapsed": true
   },
   "outputs": [],
   "source": [
    "#Python Script for Discovering Characters according to Matt Colville: https://www.youtube.com/watch?v=0K9mKpAMREU\n",
    "#For each stat, roll 4d6, dropping the lowest dice roll\n",
    "#Only keep all six stats if two of them are 15 or greater\n",
    "#Allows the player to \"discover\" who their character is"
   ]
  },
  {
   "cell_type": "code",
   "execution_count": 2,
   "metadata": {
    "collapsed": true
   },
   "outputs": [],
   "source": [
    "#import function\n",
    "import random\n",
    "import pandas as pd\n",
    "\n",
    "#create seed number for reproducability\n",
    "random.seed(20)\n",
    "\n",
    "#Names for the 6 stats and the 6 modifiers\n",
    "column_names = ['strength','dexterity','constituion','intellegence','wisdom','charisma',\n",
    "     'str mod', 'dex mod', 'con mod','int mod', 'wis mod','char mod']"
   ]
  },
  {
   "cell_type": "code",
   "execution_count": 3,
   "metadata": {
    "collapsed": true
   },
   "outputs": [],
   "source": [
    "#custom functions for stat generation\n",
    "\n",
    "\n",
    "#standard d6\n",
    "def d6():\n",
    "    roll = random.randint(1,6)\n",
    "    return(roll)\n",
    "\n",
    "#Rolls 4d6, drops the lowest value, then sums up the remaining die\n",
    "def multiroll():\n",
    "    list = []\n",
    "    for x in range(0,4):\n",
    "        roll = d6()\n",
    "        list.append(roll)\n",
    "    list.sort()\n",
    "    list = list[1:4] #indexing is not inclusive    \n",
    "    return(sum(list))\n",
    "\n",
    "#Generates six stats using multiroll()\n",
    "def gen6statsMatt():\n",
    "    ability_scores = []\n",
    "    for x in range(0,6):\n",
    "        ability_scores.append(multiroll())\n",
    "    return(ability_scores)\n",
    "\n",
    "#Counts how many ability scores are greater than or equal to 15\n",
    "#Used in Colville's method to make sure characters are special in at least 2 areas\n",
    "def count15(ability_scores):\n",
    "    counter = 0\n",
    "    for x in range(0,6):\n",
    "        if ability_scores[x] >= 15:\n",
    "            counter = counter +1\n",
    "        else:\n",
    "            counter = counter\n",
    "    return counter\n",
    "\n",
    "#Using the ability scores, calculates each stat's associated modifier\n",
    "def modcalc(scores):\n",
    "    modifier = []\n",
    "    for x in range(0,6):\n",
    "        mod = (scores[x]-10)//2\n",
    "        modifier.append(mod)\n",
    "    return modifier\n",
    "\n",
    "#Stat Generation Functions\n",
    "\n",
    "#Returns a list of ability scores & modifiers according to \n",
    "#Colville's method\n",
    "def scoregen_Matt_Colville():\n",
    "    for x in range(0,5):\n",
    "        ability_scores = gen6statsMatt()\n",
    "        test = (count15(ability_scores)) \n",
    "\n",
    "        while (test < 2):\n",
    "            ability_scores = gen6statsMatt()\n",
    "            test = (count15(ability_scores)) \n",
    "\n",
    "        modifier = modcalc(ability_scores)\n",
    "        output = list(ability_scores + modifier)\n",
    "        #output.insert(0,\"Colville\")\n",
    "        return (output)"
   ]
  },
  {
   "cell_type": "code",
   "execution_count": 4,
   "metadata": {
    "collapsed": true
   },
   "outputs": [],
   "source": [
    "#Run Colville stat generation with user defined iterations\n",
    "#Return it as as a data frame\n",
    "def dfgen_Matt_Colville(iterations):\n",
    "    master_list = []\n",
    "    for x in range(0,iterations):\n",
    "        new_list = scoregen_Matt_Colville()\n",
    "        master_list.append(new_list)\n",
    "    df = pd.DataFrame(master_list,columns = column_names)\n",
    "    return(df)"
   ]
  },
  {
   "cell_type": "code",
   "execution_count": 5,
   "metadata": {
    "collapsed": false
   },
   "outputs": [
    {
     "data": {
      "text/html": [
       "<div>\n",
       "<table border=\"1\" class=\"dataframe\">\n",
       "  <thead>\n",
       "    <tr style=\"text-align: right;\">\n",
       "      <th></th>\n",
       "      <th>strength</th>\n",
       "      <th>dexterity</th>\n",
       "      <th>constituion</th>\n",
       "      <th>intellegence</th>\n",
       "      <th>wisdom</th>\n",
       "      <th>charisma</th>\n",
       "      <th>str mod</th>\n",
       "      <th>dex mod</th>\n",
       "      <th>con mod</th>\n",
       "      <th>int mod</th>\n",
       "      <th>wis mod</th>\n",
       "      <th>char mod</th>\n",
       "    </tr>\n",
       "  </thead>\n",
       "  <tbody>\n",
       "    <tr>\n",
       "      <th>995</th>\n",
       "      <td>15</td>\n",
       "      <td>11</td>\n",
       "      <td>12</td>\n",
       "      <td>17</td>\n",
       "      <td>14</td>\n",
       "      <td>12</td>\n",
       "      <td>2</td>\n",
       "      <td>0</td>\n",
       "      <td>1</td>\n",
       "      <td>3</td>\n",
       "      <td>2</td>\n",
       "      <td>1</td>\n",
       "    </tr>\n",
       "    <tr>\n",
       "      <th>996</th>\n",
       "      <td>10</td>\n",
       "      <td>15</td>\n",
       "      <td>14</td>\n",
       "      <td>18</td>\n",
       "      <td>14</td>\n",
       "      <td>10</td>\n",
       "      <td>0</td>\n",
       "      <td>2</td>\n",
       "      <td>2</td>\n",
       "      <td>4</td>\n",
       "      <td>2</td>\n",
       "      <td>0</td>\n",
       "    </tr>\n",
       "    <tr>\n",
       "      <th>997</th>\n",
       "      <td>13</td>\n",
       "      <td>14</td>\n",
       "      <td>14</td>\n",
       "      <td>15</td>\n",
       "      <td>8</td>\n",
       "      <td>16</td>\n",
       "      <td>1</td>\n",
       "      <td>2</td>\n",
       "      <td>2</td>\n",
       "      <td>2</td>\n",
       "      <td>-1</td>\n",
       "      <td>3</td>\n",
       "    </tr>\n",
       "    <tr>\n",
       "      <th>998</th>\n",
       "      <td>15</td>\n",
       "      <td>12</td>\n",
       "      <td>13</td>\n",
       "      <td>9</td>\n",
       "      <td>12</td>\n",
       "      <td>15</td>\n",
       "      <td>2</td>\n",
       "      <td>1</td>\n",
       "      <td>1</td>\n",
       "      <td>-1</td>\n",
       "      <td>1</td>\n",
       "      <td>2</td>\n",
       "    </tr>\n",
       "    <tr>\n",
       "      <th>999</th>\n",
       "      <td>16</td>\n",
       "      <td>13</td>\n",
       "      <td>14</td>\n",
       "      <td>11</td>\n",
       "      <td>17</td>\n",
       "      <td>13</td>\n",
       "      <td>3</td>\n",
       "      <td>1</td>\n",
       "      <td>2</td>\n",
       "      <td>0</td>\n",
       "      <td>3</td>\n",
       "      <td>1</td>\n",
       "    </tr>\n",
       "  </tbody>\n",
       "</table>\n",
       "</div>"
      ],
      "text/plain": [
       "     strength  dexterity  constituion  intellegence  wisdom  charisma  \\\n",
       "995        15         11           12            17      14        12   \n",
       "996        10         15           14            18      14        10   \n",
       "997        13         14           14            15       8        16   \n",
       "998        15         12           13             9      12        15   \n",
       "999        16         13           14            11      17        13   \n",
       "\n",
       "     str mod  dex mod  con mod  int mod  wis mod  char mod  \n",
       "995        2        0        1        3        2         1  \n",
       "996        0        2        2        4        2         0  \n",
       "997        1        2        2        2       -1         3  \n",
       "998        2        1        1       -1        1         2  \n",
       "999        3        1        2        0        3         1  "
      ]
     },
     "execution_count": 5,
     "metadata": {},
     "output_type": "execute_result"
    }
   ],
   "source": [
    "#Run Colville's Method 1000 times\n",
    "df = dfgen_Matt_Colville(1000)\n",
    "df.head()\n",
    "df.tail()"
   ]
  },
  {
   "cell_type": "code",
   "execution_count": 6,
   "metadata": {
    "collapsed": false
   },
   "outputs": [
    {
     "ename": "NameError",
     "evalue": "name 'iterations' is not defined",
     "output_type": "error",
     "traceback": [
      "\u001b[0;31m---------------------------------------------------------------------------\u001b[0m",
      "\u001b[0;31mNameError\u001b[0m                                 Traceback (most recent call last)",
      "\u001b[0;32m<ipython-input-6-cad0a9ce4e27>\u001b[0m in \u001b[0;36m<module>\u001b[0;34m()\u001b[0m\n\u001b[1;32m      1\u001b[0m \u001b[0;31m#print to CSV\u001b[0m\u001b[0;34m\u001b[0m\u001b[0;34m\u001b[0m\u001b[0m\n\u001b[0;32m----> 2\u001b[0;31m \u001b[0mfilename\u001b[0m \u001b[0;34m=\u001b[0m \u001b[0;34m\"Colville\"\u001b[0m \u001b[0;34m+\u001b[0m \u001b[0mstr\u001b[0m\u001b[0;34m(\u001b[0m\u001b[0miterations\u001b[0m\u001b[0;34m)\u001b[0m \u001b[0;34m+\u001b[0m \u001b[0;34m\".csv\"\u001b[0m\u001b[0;34m\u001b[0m\u001b[0m\n\u001b[0m\u001b[1;32m      3\u001b[0m \u001b[0mresults\u001b[0m\u001b[0;34m.\u001b[0m\u001b[0mto_csv\u001b[0m\u001b[0;34m(\u001b[0m\u001b[0mfilename\u001b[0m\u001b[0;34m)\u001b[0m\u001b[0;34m\u001b[0m\u001b[0m\n\u001b[1;32m      4\u001b[0m \u001b[0mdf\u001b[0m\u001b[0;34m.\u001b[0m\u001b[0mto_csv\u001b[0m\u001b[0;34m(\u001b[0m\u001b[0mfilename\u001b[0m\u001b[0;34m)\u001b[0m\u001b[0;34m\u001b[0m\u001b[0m\n",
      "\u001b[0;31mNameError\u001b[0m: name 'iterations' is not defined"
     ]
    }
   ],
   "source": [
    "#print to CSV\n",
    "df.to_csv(\"Colville1000.csv\")"
   ]
  },
  {
   "cell_type": "code",
   "execution_count": null,
   "metadata": {
    "collapsed": true
   },
   "outputs": [],
   "source": []
  }
 ],
 "metadata": {
  "kernelspec": {
   "display_name": "Python 3",
   "language": "python",
   "name": "python3"
  },
  "language_info": {
   "codemirror_mode": {
    "name": "ipython",
    "version": 3
   },
   "file_extension": ".py",
   "mimetype": "text/x-python",
   "name": "python",
   "nbconvert_exporter": "python",
   "pygments_lexer": "ipython3",
   "version": "3.5.2"
  }
 },
 "nbformat": 4,
 "nbformat_minor": 1
}

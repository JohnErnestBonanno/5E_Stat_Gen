{
 "cells": [
  {
   "cell_type": "markdown",
   "metadata": {},
   "source": [
    "# My First Blog Post\n",
    "\n",
    "I'm starting a blog based on two books I've been reading, \"Designing Your Life\" (DYL)  by Bill Burnett and Dave Evans and \"Big Magic\" (BM) by Elizabeth Gilbert.  In DYL, the authors encourage the readers to prototype, and take exploratory steps into finding things they like.  In Big Magic, Gilbert encourages readers to not be afraid of their creativity, to put your work out there, and be brave. \n",
    "\n",
    "For years, I've thought it would be cool to be a data scienest.  That it would be awesome to take data and look at it and find these amazing insights that only I would be able to find.  To exploe these super cool stories that would reveal themselves to me through the data.  I was inspired by some of the more \"pop culture\" center-posts on Nate Silver's 538.  While the political and sports analysis was cool, what I found really interesting was sillier blog posts on the best board games of all time or the 5 different types of [Nicolas Cage Movies](https://fivethirtyeight.com/features/the-five-types-of-nicolas-cage-movies/).\n",
    "\n",
    "But I didn't have a plan to become this data driven story teller that I dreamed about.  I'd take some free online courses, take notes, in my notebook, and stop.  I told myself once I knew a litle more, or once I finished another class, I'd be ready to go.  But really, I was scared.  Felt like I could do little bit of code/analysis, but I would never be able to do \"real\" data science. \n",
    "\n",
    "But that stops today.  I'm starting this blog to hold myself accountable in becoming a data scientist (although I'll probably be more like a data analyst).  Documenting and explaning what I'm working online will also help me understand it.  The best way to is learn something is to have to be able to teach it.  I might not be 100% right in my explanations, but hopefully will help me figure out how to better understand and the future.  Not going to be perfect, but will give me the opportunity to learn on the way.  "
   ]
  },
  {
   "cell_type": "markdown",
   "metadata": {},
   "source": [
    "# My First Topic\n",
    "\n",
    "One of the reasons I didn't do well in the past (besides the fear), is because I stayed within predefined tutorials (MOVE THIS to the upper section) didn't find topics that were interesteing.  Well I'm giong to take Gilbert's advice and explore topics that I'm interested in. \n",
    "\n",
    "Right now I'm really interested in the dynamic story narrative aspect of Dungeons and Dragons.  In particuarl, I've been watching Matt Colville's \"Running the Game\" YouTube channel and have been super impressed with how he breaks down how to tell a story. or give people pushes in the right direction.  For example, in one of his first episodes, if the players are hestisant to save the kidnapped blacksmith's daugher from the goblins, have the an elderly grandmother say she'll get her armor and go try and save them.  Chances are the players will feel enough shame, that they will go instead (THIS IS BRILLIANT!) \n",
    "\n",
    "So if I'm interested in D&D and data analysis, let's combine the two to make sure I stay engaged  "
   ]
  },
  {
   "cell_type": "markdown",
   "metadata": {},
   "source": [
    "To start off, I created a python script that generates random stats for a 5th edition D&D characters using three different methodolies including:\n",
    "* Summing 3d6\n",
    "* Summing 4d6 dropping the lowest value\n",
    "* Summing 4d6 dropping the lowest value and two statistics are greater than or equal to 15\n",
    "\n",
    "Matt says he likes this method because it helps players discover their characters. But, also having 2 stats greater than 15 ensures that they are special in some one. That they are heros and have something that makes them unique. So main question is, how much better are Matt's generated characters than the other methods?\n",
    "\n",
    "Main Question: How much better are Matt's characters than other characters?\n",
    "\n",
    "Other Question: \n",
    "* What is the correlation between stats (holding RollType constant)? Should be zero, but want to make sure.\n",
    "* How about correlation between ability and ability modifier? \n",
    "* Who was the strongest character generated? The weakest?\n",
    "\n",
    "But before we get into some of those questions, we need to load the data and learn how to index.  That's what this blog post will be about"
   ]
  },
  {
   "cell_type": "markdown",
   "metadata": {},
   "source": []
  }
 ],
 "metadata": {
  "kernelspec": {
   "display_name": "Python 3",
   "language": "python",
   "name": "python3"
  },
  "language_info": {
   "codemirror_mode": {
    "name": "ipython",
    "version": 3
   },
   "file_extension": ".py",
   "mimetype": "text/x-python",
   "name": "python",
   "nbconvert_exporter": "python",
   "pygments_lexer": "ipython3",
   "version": "3.6.3"
  }
 },
 "nbformat": 4,
 "nbformat_minor": 1
}
